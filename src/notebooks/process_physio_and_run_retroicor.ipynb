{
 "cells": [
  {
   "cell_type": "code",
   "execution_count": 1,
   "metadata": {},
   "outputs": [],
   "source": [
    "#import\n",
    "import pandas as pd\n",
    "from pathlib import Path\n",
    "import json\n",
    "import numpy as np\n",
    "import os"
   ]
  },
  {
   "cell_type": "markdown",
   "metadata": {},
   "source": [
    "## Read in respiratory trace\n",
    "* Data must be formatted in bids\n",
    "    * Resp file must be \"tsv\" or \"tsv.gz\"\n",
    "    * json metadata file must be present\n",
    "    * json metadata file must have the attribute \"Column\" which is a list of labels corresponding to the columns in the data file\n",
    "    * respiratory label must be named \"respiratory\"\n",
    "    * alternatively, pass in the column number that the respiratory trace corresponds to (INDEX STARTS AT 0)"
   ]
  },
  {
   "cell_type": "code",
   "execution_count": 2,
   "metadata": {
    "scrolled": true
   },
   "outputs": [],
   "source": [
    "#export\n",
    "def read_respiratory_trace(bids_physio_file, column=None):\n",
    "    # Read in physio file and extract only the physio data\n",
    "    if column is None:\n",
    "        if \"tsv.gz\" in bids_physio_file:\n",
    "            physio_json = bids_physio_file.replace(\"tsv.gz\", \"json\")\n",
    "        elif \"tsv\" in bids_physio_file:\n",
    "            physio_json = bids_physio_file.replace(\"tsv\", \"json\")\n",
    "        else:\n",
    "            raise ValueError(\"the physio file must be a tsv or tsv.gz file\")\n",
    "        #read physio json\n",
    "        with open(physio_json) as f:\n",
    "            metadata = json.load(f)       \n",
    "        #get respiratory index\n",
    "        resp_index = metadata[\"Columns\"].index(\"respiratory\")\n",
    "    else:\n",
    "        # just set index as column value\n",
    "        resp_index = int(column)\n",
    "    #read physio data \n",
    "    physio_data = np.genfromtxt(bids_physio_file)\n",
    "    #return column of respiratory trace\n",
    "    return physio_data[:, resp_index]"
   ]
  },
  {
   "cell_type": "markdown",
   "metadata": {},
   "source": [
    "## Extract Max Frequency\n",
    "* get the top frequency in the respiratory trace\n",
    "* should look over this code to make sure it's correct\n",
    "* using a modified version of this code: https://www.kite.com/python/answers/how-to-plot-a-power-spectrum-in-python"
   ]
  },
  {
   "cell_type": "code",
   "execution_count": 3,
   "metadata": {},
   "outputs": [],
   "source": [
    "import matplotlib.pyplot as plt"
   ]
  },
  {
   "cell_type": "code",
   "execution_count": 4,
   "metadata": {},
   "outputs": [],
   "source": [
    "#export\n",
    "def extract_max_freq(resp_trace, sampling_rate):\n",
    "    fourier_transform = np.fft.rfft(resp_trace)\n",
    "    abs_fourier_transform = np.abs(fourier_transform)\n",
    "    power_spectrum = np.square(abs_fourier_transform)\n",
    "    frequency = np.linspace(0, sampling_rate/2, len(power_spectrum))\n",
    "    assert len(power_spectrum) == len(frequency)\n",
    "    plt.plot(frequency, power_spectrum)\n",
    "    plt.xlim(0, 1)\n",
    "    plt.show()\n",
    "    return frequency[np.argmax(power_spectrum)]"
   ]
  },
  {
   "cell_type": "markdown",
   "metadata": {},
   "source": [
    "## Filter Frequency\n",
    "* Look over this script\n",
    "* taken from here: https://stackoverflow.com/questions/12093594/how-to-implement-band-pass-butterworth-filter-with-scipy-signal-butter"
   ]
  },
  {
   "cell_type": "code",
   "execution_count": 5,
   "metadata": {},
   "outputs": [],
   "source": [
    "#import \n",
    "from scipy.signal import butter, lfilter"
   ]
  },
  {
   "cell_type": "code",
   "execution_count": 6,
   "metadata": {},
   "outputs": [],
   "source": [
    "#export \n",
    "def butter_bandpass(lowcut, highcut, fs, order=3):\n",
    "    nyq = 0.5 * fs\n",
    "    low = lowcut / nyq\n",
    "    high = highcut / nyq\n",
    "    b, a = butter(order, [low, high], btype='band')\n",
    "    return b, a\n",
    "\n",
    "\n",
    "def butter_bandpass_filter(data, lowcut, highcut, fs, order=3):\n",
    "    b, a = butter_bandpass(lowcut, highcut, fs, order=order)\n",
    "    y = lfilter(b, a, data)\n",
    "    return y\n",
    "\n",
    "def filter_frequency(data):\n",
    "    return butter_bandpass_filter(data, 0.05, 1, 62.5)"
   ]
  },
  {
   "cell_type": "markdown",
   "metadata": {},
   "source": [
    "## Write output to file\n",
    "* make sure the directory exists"
   ]
  },
  {
   "cell_type": "code",
   "execution_count": 7,
   "metadata": {},
   "outputs": [],
   "source": [
    "#export\n",
    "def write_output(output_folder, physio_path, data):\n",
    "    out = Path(output_folder)\n",
    "    if not out.is_dir():\n",
    "        raise FileNotFoundError(\"output directory is not found\")\n",
    "    outname = \"{}.1D\".format(os.path.basename(physio_path).split(\".\")[0])\n",
    "    np.savetxt(str(out/outname), data, fmt=\"%.06f\")\n",
    "    return str(out/outname)"
   ]
  },
  {
   "cell_type": "code",
   "execution_count": 8,
   "metadata": {},
   "outputs": [],
   "source": [
    "\n",
    "physio_path = \"../../data/sub-A00051456_ses-DS2_task-rest_acq-1400_physio.tsv.gz\"\n",
    "output_dir = \"../../data\""
   ]
  },
  {
   "cell_type": "code",
   "execution_count": 9,
   "metadata": {
    "scrolled": true
   },
   "outputs": [],
   "source": [
    "#export\n",
    "\n",
    "def process_physio(physio_path, output_dir):\n",
    "    rt = read_respiratory_trace(physio_path)\n",
    "    #demean rt\n",
    "    rt = rt-np.mean(rt)\n",
    "    max_freq = extract_max_freq(rt, 62.5)\n",
    "    if (max_freq>0.15) and (max_freq<1):\n",
    "        filtered = filter_frequency(rt)\n",
    "        #extract_max_freq(filtered, 62.5)\n",
    "        return write_output(output_dir, physio_path, filtered)\n",
    "    else:\n",
    "        return None\n"
   ]
  },
  {
   "cell_type": "markdown",
   "metadata": {},
   "source": [
    "## Make Retroicor String\n",
    "* Make the bash command for 3dretroicor\n",
    "* Only respiratory data"
   ]
  },
  {
   "cell_type": "code",
   "execution_count": 10,
   "metadata": {},
   "outputs": [],
   "source": [
    "#export\n",
    "def make_retroicor_string(nifti_image, physio_path, output_dir):\n",
    "    new_nifti_name = \"{}_retroicor.nii.gz\".format(os.path.basename(nifti_image).split(\".\")[0])\n",
    "    output_dir = Path(output_dir).resolve()\n",
    "    return \"3dretroicor -prefix {} -resp {} {}\" .format(output_dir/new_nifti_name, physio_path, nifti_image)"
   ]
  },
  {
   "cell_type": "code",
   "execution_count": 11,
   "metadata": {},
   "outputs": [],
   "source": [
    "#import \n",
    "import time\n",
    "from subprocess import Popen, PIPE\n",
    "import shlex"
   ]
  },
  {
   "cell_type": "code",
   "execution_count": 12,
   "metadata": {},
   "outputs": [],
   "source": [
    "#export\n",
    "def print_cmd(cmd_str):\n",
    "    print(cmd_str.replace(\" -\", \"\\n -\"))\n",
    "\n",
    "\n",
    "def run_cmd(cmd):\n",
    "    start_time = time.time()\n",
    "    print_cmd(cmd)\n",
    "    p = Popen(shlex.split(cmd), stdout=PIPE, stderr=PIPE)\n",
    "    stdout, stderr = p.communicate()\n",
    "    print(\"Elapsed time: {:.2f}s\".format(time.time() - start_time))"
   ]
  },
  {
   "cell_type": "code",
   "execution_count": 13,
   "metadata": {},
   "outputs": [],
   "source": [
    "#fire \n",
    "def run(nifti_image, physio_path, output_dir):\n",
    "    processed_physio_path = process_physio(physio_path, output_dir)\n",
    "    if processed_physio_path is None:\n",
    "        print(\"{}: bad physio file\".format(physio_path))\n",
    "        return \n",
    "    #resolve full physio_path\n",
    "    processed_physio_path = Path(processed_physio_path).resolve()\n",
    "    retroicor_str = make_retroicor_string(nifti_image, processed_physio_path, output_dir)\n",
    "    print(retroicor_str)\n",
    "    run_cmd(retroicor_str)"
   ]
  },
  {
   "cell_type": "code",
   "execution_count": 14,
   "metadata": {},
   "outputs": [
    {
     "data": {
      "image/png": "[encoded data removed]",
      "text/plain": [
       "<Figure size 432x288 with 1 Axes>"
      ]
     },
     "metadata": {
      "needs_background": "light"
     },
     "output_type": "display_data"
    },
    {
     "name": "stdout",
     "output_type": "stream",
     "text": [
      "3dretroicor -prefix /home/cbin-user/proj/run_retroicor/data/sub-A00037582_ses-DS2_task-rest_acq-1400_bold_retroicor.nii.gz -resp /home/cbin-user/proj/run_retroicor/data/sub-A00037582_ses-DS2_task-rest_acq-1400_physio.1D ../../data/sub-A00037582/sub-A00037582_ses-DS2_task-rest_acq-1400_bold.nii.gz\n",
      "3dretroicor\n",
      " -prefix /home/cbin-user/proj/run_retroicor/data/sub-A00037582_ses-DS2_task-rest_acq-1400_bold_retroicor.nii.gz\n",
      " -resp /home/cbin-user/proj/run_retroicor/data/sub-A00037582_ses-DS2_task-rest_acq-1400_physio.1D ../../data/sub-A00037582/sub-A00037582_ses-DS2_task-rest_acq-1400_bold.nii.gz\n",
      "Elapsed time: 259.02s\n"
     ]
    }
   ],
   "source": [
    "run(\"../../data/sub-A00037582/sub-A00037582_ses-DS2_task-rest_acq-1400_bold.nii.gz\", \n",
    "    \"../../data/sub-A00037582/sub-A00037582_ses-DS2_task-rest_acq-1400_physio.tsv.gz\", \n",
    "   \"../../data\")"
   ]
  },
  {
   "cell_type": "code",
   "execution_count": null,
   "metadata": {},
   "outputs": [],
   "source": []
  },
  {
   "cell_type": "code",
   "execution_count": null,
   "metadata": {},
   "outputs": [],
   "source": []
  },
  {
   "cell_type": "code",
   "execution_count": null,
   "metadata": {},
   "outputs": [],
   "source": []
  }
 ],
 "metadata": {
  "kernelspec": {
   "display_name": "Python 3",
   "language": "python",
   "name": "python3"
  },
  "language_info": {
   "codemirror_mode": {
    "name": "ipython",
    "version": 3
   },
   "file_extension": ".py",
   "mimetype": "text/x-python",
   "name": "python",
   "nbconvert_exporter": "python",
   "pygments_lexer": "ipython3",
   "version": "3.5.2"
  }
 },
 "nbformat": 4,
 "nbformat_minor": 2
}
